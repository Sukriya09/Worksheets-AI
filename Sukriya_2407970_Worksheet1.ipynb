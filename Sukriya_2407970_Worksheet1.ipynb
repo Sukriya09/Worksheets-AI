{
  "nbformat": 4,
  "nbformat_minor": 0,
  "metadata": {
    "colab": {
      "provenance": []
    },
    "kernelspec": {
      "name": "python3",
      "display_name": "Python 3"
    },
    "language_info": {
      "name": "python"
    }
  },
  "cells": [
    {
      "cell_type": "markdown",
      "source": [
        "4.1\n",
        " 1. Initialize an empty array with size 2X2.\n"
      ],
      "metadata": {
        "id": "uPJ6KMhL5dnK"
      }
    },
    {
      "cell_type": "code",
      "execution_count": null,
      "metadata": {
        "colab": {
          "base_uri": "https://localhost:8080/"
        },
        "id": "H3ogXIPV43a0",
        "outputId": "0ba40f28-388d-48b3-f342-63529a1c98f3"
      },
      "outputs": [
        {
          "output_type": "stream",
          "name": "stdout",
          "text": [
            "2 * 2 empty array:\n",
            "  [[4.64631165e-310 0.00000000e+000]\n",
            " [4.64519106e-310 6.90882944e-310]]\n"
          ]
        }
      ],
      "source": [
        "import numpy as np\n",
        "arr = np.empty((2,2))\n",
        "print(\"2 * 2 empty array:\\n \", arr)"
      ]
    },
    {
      "cell_type": "markdown",
      "source": [
        " 2. Initialize an all one array with size 4X2.\n"
      ],
      "metadata": {
        "id": "s66LlH0x6HIi"
      }
    },
    {
      "cell_type": "code",
      "source": [
        "import numpy as np\n",
        "arr = np.ones((4,2));\n",
        "print(\"All ones array:\\n \",arr)\n"
      ],
      "metadata": {
        "colab": {
          "base_uri": "https://localhost:8080/"
        },
        "id": "Kn5LBrrZ6X8Q",
        "outputId": "85701def-c394-4f85-d2c0-eec8f40e1b75"
      },
      "execution_count": null,
      "outputs": [
        {
          "output_type": "stream",
          "name": "stdout",
          "text": [
            "All ones array:\n",
            "  [[1. 1.]\n",
            " [1. 1.]\n",
            " [1. 1.]\n",
            " [1. 1.]]\n"
          ]
        }
      ]
    },
    {
      "cell_type": "markdown",
      "source": [
        " 3. Return a new array of given shape and type, filled with fill value.{Hint: np.full}\n"
      ],
      "metadata": {
        "id": "CUtNA8yg7w7W"
      }
    },
    {
      "cell_type": "code",
      "source": [
        "import numpy as np\n",
        "fill_value = 9\n",
        "shape = (2,3)\n",
        "filled_arr = np.full(shape,fill_value)\n",
        "print(\"\\nArray Filled with value 9(2*3): \\n\", filled_arr)\n"
      ],
      "metadata": {
        "colab": {
          "base_uri": "https://localhost:8080/"
        },
        "id": "hawKHivi8NCr",
        "outputId": "51d5c777-f0be-48ff-848b-330051901943"
      },
      "execution_count": null,
      "outputs": [
        {
          "output_type": "stream",
          "name": "stdout",
          "text": [
            "\n",
            "Array Filled with value 9(2*3): \n",
            " [[9 9 9]\n",
            " [9 9 9]]\n"
          ]
        }
      ]
    },
    {
      "cell_type": "markdown",
      "source": [
        " 4. Return a new array of zeros with same shape and type as a given array.{Hint: np.zeros like}\n",
        "*italicized text*"
      ],
      "metadata": {
        "id": "E6_xliIo94az"
      }
    },
    {
      "cell_type": "code",
      "source": [
        "import numpy as np\n",
        "#example array\n",
        "given_arr = np.array([[2,4],[5,6]])\n",
        "\n",
        "#create a new array with zeroes with the same shape\n",
        "zero_arr = np.zeros_like(given_arr)\n",
        "\n",
        "print(\"Original array:\\n\", given_arr)\n",
        "print(\"Array filled with zeroes:\\n\", zero_arr)\n"
      ],
      "metadata": {
        "colab": {
          "base_uri": "https://localhost:8080/"
        },
        "id": "TvnbS9s396Yj",
        "outputId": "4ef90c86-8400-4abf-cbc9-ec5ff85c6fb3"
      },
      "execution_count": null,
      "outputs": [
        {
          "output_type": "stream",
          "name": "stdout",
          "text": [
            "Original array:\n",
            " [[2 4]\n",
            " [5 6]]\n",
            "Array filled with zeroes:\n",
            " [[0 0]\n",
            " [0 0]]\n"
          ]
        }
      ]
    },
    {
      "cell_type": "markdown",
      "source": [
        " 5. Return a new array of ones with same shape and type as a given array.{Hint: np.ones like}\n"
      ],
      "metadata": {
        "id": "D2wKqVYh_2xh"
      }
    },
    {
      "cell_type": "code",
      "source": [
        "import numpy as np\n",
        "example_arr = np.array([[1,2,3], [6,7,8]])\n",
        "ones_arr = np.ones_like(example_arr)\n",
        "print(\"Original array:\\n\", example_arr)\n",
        "print(\"Array filled with ones:\\n\",ones_arr)"
      ],
      "metadata": {
        "colab": {
          "base_uri": "https://localhost:8080/"
        },
        "id": "SYSRSvLx_5ZP",
        "outputId": "113e8c07-5176-4187-c2b3-74ab2cae043e"
      },
      "execution_count": null,
      "outputs": [
        {
          "output_type": "stream",
          "name": "stdout",
          "text": [
            "Original array:\n",
            " [[1 2 3]\n",
            " [6 7 8]]\n",
            "Array filled with ones:\n",
            " [[1 1 1]\n",
            " [1 1 1]]\n"
          ]
        }
      ]
    },
    {
      "cell_type": "markdown",
      "source": [
        " 6. For an existing list new_list = [1,2,3,4] convert to an numpy array.{Hint: np.array()}\n"
      ],
      "metadata": {
        "id": "Y60U9mFBAdcj"
      }
    },
    {
      "cell_type": "code",
      "source": [
        "new_list = [1,2,3,4]\n",
        "#converting to numpy array\n",
        "numpy_arr = np.array(new_list)\n",
        "print(numpy_arr)"
      ],
      "metadata": {
        "colab": {
          "base_uri": "https://localhost:8080/"
        },
        "id": "CiokoMW2Aewg",
        "outputId": "b21a5ca0-64f6-41fc-85c1-2eedb1d4a834"
      },
      "execution_count": null,
      "outputs": [
        {
          "output_type": "stream",
          "name": "stdout",
          "text": [
            "[1 2 3 4]\n"
          ]
        }
      ]
    },
    {
      "cell_type": "markdown",
      "source": [
        " 4.1.1 Problem- 2: Array Manipulation: Numerical Ranges and Array indexing:\n",
        " Complete the following tasks:\n",
        " 1. Create an array with values ranging from 10 to 49. {Hint:np.arange()}."
      ],
      "metadata": {
        "id": "9yPvVB_HA6bS"
      }
    },
    {
      "cell_type": "code",
      "source": [
        "import numpy as np\n",
        "arr_range = np.arange(10,50)\n",
        "print(\"Array with values ranging from 10 to 49:\\n\", arr_range)"
      ],
      "metadata": {
        "colab": {
          "base_uri": "https://localhost:8080/"
        },
        "id": "guEoLrRqA8du",
        "outputId": "5d1b1f90-b704-406d-aca1-6c65209867e1"
      },
      "execution_count": null,
      "outputs": [
        {
          "output_type": "stream",
          "name": "stdout",
          "text": [
            "Array with values ranging from 10 to 49:\n",
            " [10 11 12 13 14 15 16 17 18 19 20 21 22 23 24 25 26 27 28 29 30 31 32 33\n",
            " 34 35 36 37 38 39 40 41 42 43 44 45 46 47 48 49]\n"
          ]
        }
      ]
    },
    {
      "cell_type": "markdown",
      "source": [
        "2. Create a 3X3 matrix with values ranging from 0 to 8.\n",
        " {Hint:look for np.reshape()}"
      ],
      "metadata": {
        "id": "zdczFm0RBmEi"
      }
    },
    {
      "cell_type": "code",
      "source": [
        "matrix = np.arange(0,9).reshape(3,3)\n",
        "print(\"3X3 matrix with values ranging from 0 to 8:\\n\",matrix)\n"
      ],
      "metadata": {
        "colab": {
          "base_uri": "https://localhost:8080/"
        },
        "id": "F7uuXdfQBqyI",
        "outputId": "f4373ec4-8d26-4516-d7cd-c9dcdef98df4"
      },
      "execution_count": null,
      "outputs": [
        {
          "output_type": "stream",
          "name": "stdout",
          "text": [
            "3X3 matrix with values ranging from 0 to 8:\n",
            " [[0 1 2]\n",
            " [3 4 5]\n",
            " [6 7 8]]\n"
          ]
        }
      ]
    },
    {
      "cell_type": "markdown",
      "source": [
        "3. Create a 3X3 identity matrix.{Hint:np.eye()}"
      ],
      "metadata": {
        "id": "vmRNGLcjCYoS"
      }
    },
    {
      "cell_type": "code",
      "source": [
        "identity_matrix = np.eye(3,3)\n",
        "print(\"Identity matrix: \\n\", identity_matrix)"
      ],
      "metadata": {
        "colab": {
          "base_uri": "https://localhost:8080/"
        },
        "id": "vo3bLXq3Ca5_",
        "outputId": "6df2d61c-c8af-4116-cdcc-6738480dd052"
      },
      "execution_count": null,
      "outputs": [
        {
          "output_type": "stream",
          "name": "stdout",
          "text": [
            "Identity matrix: \n",
            " [[1. 0. 0.]\n",
            " [0. 1. 0.]\n",
            " [0. 0. 1.]]\n"
          ]
        }
      ]
    },
    {
      "cell_type": "markdown",
      "source": [
        " 4. Create a random array of size 30 and find the mean of the array.\n",
        " {Hint:check for np.random.random() and array.mean() function}\n"
      ],
      "metadata": {
        "id": "eUk7OIlMCudq"
      }
    },
    {
      "cell_type": "code",
      "source": [
        "random_arr =np.random.random(30)\n",
        "mean = random_arr.mean()\n",
        "print(\"Random array with size 30: \\n\", random_arr)\n",
        "print(\"Mean of the array: \\n\", mean)"
      ],
      "metadata": {
        "colab": {
          "base_uri": "https://localhost:8080/"
        },
        "id": "SaB1NTsjCxex",
        "outputId": "1513386b-6690-4b7b-e3f7-2e26a1ef3e6f"
      },
      "execution_count": null,
      "outputs": [
        {
          "output_type": "stream",
          "name": "stdout",
          "text": [
            "Random array with size 30: \n",
            " [0.76408729 0.78366289 0.48317923 0.48547539 0.69535221 0.04306154\n",
            " 0.83626135 0.46362576 0.98269887 0.13892722 0.28734969 0.35651401\n",
            " 0.37990494 0.90274298 0.344788   0.00651078 0.79868649 0.01998036\n",
            " 0.97958042 0.2757111  0.05425505 0.44031574 0.91311927 0.34540358\n",
            " 0.19780699 0.21761626 0.85283835 0.23067314 0.88604415 0.78906422]\n",
            "Mean of the array: \n",
            " 0.49850790841070186\n"
          ]
        }
      ]
    },
    {
      "cell_type": "markdown",
      "source": [
        " 5. Create a 10X10 array with random values and find the minimum and maximum values.\n"
      ],
      "metadata": {
        "id": "Oj91zNODEAFI"
      }
    },
    {
      "cell_type": "code",
      "source": [
        "import numpy as np\n",
        "random_array = np.random.random((10,10))\n",
        "min_value = random_array.min()\n",
        "max_value = random_array.max()\n",
        "print(\"Array with 10 * 10 random values: \\n\", random_array)\n",
        "print(\"Minimum value: \", min_value)\n",
        "print(\"Maximum value: \", max_value)"
      ],
      "metadata": {
        "colab": {
          "base_uri": "https://localhost:8080/"
        },
        "id": "SPwHQEGkShBh",
        "outputId": "d2d82958-fd44-44ac-ca7e-ae9f561bf725"
      },
      "execution_count": null,
      "outputs": [
        {
          "output_type": "stream",
          "name": "stdout",
          "text": [
            "Array with 10 * 10 random values: \n",
            " [[0.9914313  0.37316961 0.31186518 0.9313915  0.98349703 0.5037142\n",
            "  0.93892125 0.80368683 0.86147232 0.91652329]\n",
            " [0.94120216 0.59925953 0.4393781  0.19078342 0.02116066 0.95202459\n",
            "  0.69366968 0.93797165 0.773698   0.2592831 ]\n",
            " [0.08613192 0.42206807 0.81403615 0.05703104 0.69649937 0.71541062\n",
            "  0.5980059  0.25589871 0.44669795 0.67499904]\n",
            " [0.62060976 0.93187135 0.32174008 0.20444267 0.26384729 0.77558602\n",
            "  0.89198845 0.91444424 0.11973321 0.41417192]\n",
            " [0.34670199 0.91193819 0.11453969 0.09058037 0.68979114 0.49543514\n",
            "  0.29211641 0.71260374 0.40776868 0.0339795 ]\n",
            " [0.15578022 0.46176064 0.44846584 0.33167015 0.36848987 0.23231165\n",
            "  0.8837614  0.08349025 0.15392182 0.52344175]\n",
            " [0.53354665 0.19191338 0.63968797 0.11196908 0.64748647 0.18537013\n",
            "  0.7208604  0.39326919 0.67982712 0.06883859]\n",
            " [0.71564215 0.54809177 0.88151692 0.92112194 0.58072677 0.48286349\n",
            "  0.33792634 0.26434512 0.14834789 0.73237298]\n",
            " [0.67819745 0.16292597 0.98689898 0.58270162 0.97258341 0.91407023\n",
            "  0.05505404 0.59045778 0.39088761 0.98752245]\n",
            " [0.29421853 0.06641434 0.66349139 0.73526897 0.28007261 0.18832613\n",
            "  0.41805257 0.33668601 0.26029529 0.56125385]]\n",
            "Minimum value:  0.02116065891866248\n",
            "Maximum value:  0.9914313000235859\n"
          ]
        }
      ]
    },
    {
      "cell_type": "markdown",
      "source": [
        " 6. Create a zero array of size 10 and replace 5th element with 1.\n"
      ],
      "metadata": {
        "id": "GorFIIlVTgp2"
      }
    },
    {
      "cell_type": "code",
      "source": [
        "import numpy as np\n",
        "zero_arr = np.zeros(10)\n",
        "# the 5th value represents 4th index\n",
        "zero_arr[4] = 1\n",
        "print(\"Zero array of size 10 and being element being replaced: \\n\", zero_arr)"
      ],
      "metadata": {
        "colab": {
          "base_uri": "https://localhost:8080/"
        },
        "id": "YZwsY_APTjkF",
        "outputId": "4c1159c4-0b95-4a1c-d53c-1175e983c1fe"
      },
      "execution_count": null,
      "outputs": [
        {
          "output_type": "stream",
          "name": "stdout",
          "text": [
            "Zero array of size 10 and being element being replaced: \n",
            " [0. 0. 0. 0. 1. 0. 0. 0. 0. 0.]\n"
          ]
        }
      ]
    },
    {
      "cell_type": "markdown",
      "source": [
        " 7. Reverse an array arr = [1,2,0,0,4,0].\n"
      ],
      "metadata": {
        "id": "xKoiB6GIUNZ0"
      }
    },
    {
      "cell_type": "code",
      "source": [
        "\n",
        "arr = [1,2,0,0,4,0]\n",
        "reverse_arr = arr[::-1]\n",
        "print(\"Original array: \", arr)\n",
        "print(\"The reversed array is: \\n\", reverse_arr)"
      ],
      "metadata": {
        "colab": {
          "base_uri": "https://localhost:8080/"
        },
        "id": "l5nxhITnUP5I",
        "outputId": "97d8e051-12a0-45aa-dc55-0b8505283708"
      },
      "execution_count": null,
      "outputs": [
        {
          "output_type": "stream",
          "name": "stdout",
          "text": [
            "Original array:  [1, 2, 0, 0, 4, 0]\n",
            "The reversed array is: \n",
            " [0, 4, 0, 0, 2, 1]\n"
          ]
        }
      ]
    },
    {
      "cell_type": "markdown",
      "source": [
        " 8. Create a 2d array with 1 on border and 0 inside.\n",
        "\n",
        "\n",
        "```\n",
        "# This is formatted as code\n",
        "```\n",
        "\n"
      ],
      "metadata": {
        "id": "SOv4V31zWClD"
      }
    },
    {
      "cell_type": "code",
      "source": [
        "border_arr = np.ones((5,5))\n",
        "border_arr[1:-1, 1:-1] = 0\n",
        "print(\"2d array with 1 on border and 0 inside: \\n\", border_arr)"
      ],
      "metadata": {
        "colab": {
          "base_uri": "https://localhost:8080/"
        },
        "id": "cIV8XT-nWEnG",
        "outputId": "ddbb5b0f-3f1a-441d-c5e0-ffd43e8a66b7"
      },
      "execution_count": null,
      "outputs": [
        {
          "output_type": "stream",
          "name": "stdout",
          "text": [
            "2d array with 1 on border and 0 inside: \n",
            " [[1. 1. 1. 1. 1.]\n",
            " [1. 0. 0. 0. 1.]\n",
            " [1. 0. 0. 0. 1.]\n",
            " [1. 0. 0. 0. 1.]\n",
            " [1. 1. 1. 1. 1.]]\n"
          ]
        }
      ]
    },
    {
      "cell_type": "markdown",
      "source": [
        " 9. Create a 8X8 matrix and fill it with a checkerboard pattern.\n"
      ],
      "metadata": {
        "id": "G1Ayxn8cW7Ng"
      }
    },
    {
      "cell_type": "code",
      "source": [
        "checkerboard = np.zeros((8,8),dtype = int)\n",
        "checkerboard[1::2, ::2] = 1  #fill alternate positions in odd rows\n",
        "checkerboard[::2, 1::2] = 1 #fill alternate positions in even rows\n",
        "print(\"8X8 matrix with a checkerboard pattern: \\n\", checkerboard)\n"
      ],
      "metadata": {
        "colab": {
          "base_uri": "https://localhost:8080/"
        },
        "id": "QfGthfaLXB7u",
        "outputId": "f52ce2ed-a078-4f02-a2aa-e88d7c4cea05"
      },
      "execution_count": null,
      "outputs": [
        {
          "output_type": "stream",
          "name": "stdout",
          "text": [
            "8X8 matrix with a checkerboard pattern: \n",
            " [[0 1 0 1 0 1 0 1]\n",
            " [1 0 1 0 1 0 1 0]\n",
            " [0 1 0 1 0 1 0 1]\n",
            " [1 0 1 0 1 0 1 0]\n",
            " [0 1 0 1 0 1 0 1]\n",
            " [1 0 1 0 1 0 1 0]\n",
            " [0 1 0 1 0 1 0 1]\n",
            " [1 0 1 0 1 0 1 0]]\n"
          ]
        }
      ]
    },
    {
      "cell_type": "markdown",
      "source": [
        "Problem- 3: Array Operations:\n",
        " For the following arrays:\n",
        " x = np.array([[1,2],[3,5]]) and y = np.array([[5,6],[7,8]]);\n",
        " v = np.array([9,10]) and w = np.array([11,12]);\n",
        " Complete all the task using numpy:\n",
        " 1. Add the two array.\n",
        " 2. Subtract the two array.\n",
        " 3. Multiply the array with any integers of your choice.\n",
        " 4. Find the square of each element of the array.\n",
        " 5. Find the dot product between: v(and)w ; x(and)v ; x(and)y.\n",
        " 6. Concatenate x(and)y along row and Concatenate v(and)w along column.\n",
        " {Hint:try np.concatenate() or np.vstack() functions.\n",
        " 7. Concatenate x(and)v; if you get an error, observe and explain why did you get the error?"
      ],
      "metadata": {
        "id": "hB-F_tWbX1Y1"
      }
    },
    {
      "cell_type": "code",
      "source": [
        "import numpy as np\n",
        "#given arrays\n",
        "x = np.array([[1,2],[3,5]])\n",
        "y = np.array([[5,6],[7,8]])\n",
        "v = np.array([9,10])\n",
        "w = np.array([11,12])\n",
        "\n",
        "#adding two arrays\n",
        "addition = x + y\n",
        "print(\"sum of x and y:\\n\", addition,\"\\n\")\n",
        "\n",
        "#subtracting two arrays\n",
        "diff = x - y\n",
        "print(\"Difference of x and y: \\n\", diff)\n",
        "\n",
        "#multiplying the array v with integer 4\n",
        "scalar_multiply = v * 4\n",
        "print(\"Product of array: \", scalar_multiply)\n",
        "\n",
        "#finding square of each element in the array x\n",
        "s1 = x ** 2\n",
        "s2 = y ** 2\n",
        "s3 = v ** 2\n",
        "s4  = w ** 2\n",
        "\n",
        "print(\"\\nsquare of each elements: \\n\")\n",
        "print(\"x: \",s1)\n",
        "print (\"y: \",s2)\n",
        "print(\"v: \",s3)\n",
        "print(\"w: \",s4)\n",
        "\n",
        "# finding the dot product\n",
        "vw_dot = np.dot(v,w)\n",
        "xv_dot = np.dot(x, v)\n",
        "xy_dot = np.dot(x,y)\n",
        "print(\"\\n Dot product of v and w: \", vw_dot)\n",
        "print(\"\\n Dot product of x and v: \", xv_dot)\n",
        "print(\"\\n Dot product of x and y: \", xy_dot)\n",
        "\n",
        "# concatenate x and y along rows, v and w along colums\n",
        "concat_xy = np.concatenate((x,y), axis = 0) # along rows\n",
        "concat_vw = np.vstack((v,w)) # along column\n",
        "print(\"Concatenation of x and y along rows: \\n\", concat_xy)\n",
        "print(\"Concatenation of v and w along column: \\n\", concat_vw)\n",
        "\n",
        "#concatenate x and v\n",
        "try:\n",
        "  concat_xv = np.concatenate((x,v), axis = 0)\n",
        "  print(\"\\nConcatenation of x and v: \\n\", concat_xv)\n",
        "except ValueError as e:\n",
        "  print(\"\\n Error while concatenatating x and v: \", e)"
      ],
      "metadata": {
        "colab": {
          "base_uri": "https://localhost:8080/"
        },
        "id": "9zQG7NyZX6IP",
        "outputId": "82cdc8bc-1c66-4c32-cf50-29948f474d48"
      },
      "execution_count": null,
      "outputs": [
        {
          "output_type": "stream",
          "name": "stdout",
          "text": [
            "sum of x and y:\n",
            " [[ 6  8]\n",
            " [10 13]] \n",
            "\n",
            "Difference of x and y: \n",
            " [[-4 -4]\n",
            " [-4 -3]]\n",
            "Product of array:  [36 40]\n",
            "\n",
            "square of each elements: \n",
            "\n",
            "x:  [[ 1  4]\n",
            " [ 9 25]]\n",
            "y:  [[25 36]\n",
            " [49 64]]\n",
            "v:  [ 81 100]\n",
            "w:  [121 144]\n",
            "\n",
            " Dot product of v and w:  219\n",
            "\n",
            " Dot product of x and v:  [29 77]\n",
            "\n",
            " Dot product of x and y:  [[19 22]\n",
            " [50 58]]\n",
            "Concatenation of x and y along rows: \n",
            " [[1 2]\n",
            " [3 5]\n",
            " [5 6]\n",
            " [7 8]]\n",
            "Concatenation of v and w along column: \n",
            " [[ 9 10]\n",
            " [11 12]]\n",
            "\n",
            " Error while concatenatating x and v:  all the input arrays must have same number of dimensions, but the array at index 0 has 2 dimension(s) and the array at index 1 has 1 dimension(s)\n"
          ]
        }
      ]
    },
    {
      "cell_type": "markdown",
      "source": [
        " Problem- 4: Matrix Operations:\n",
        " • For the following arrays:\n",
        " A = np.array([[3,4],[7,8]]) and B = np.array([[5,3],[2,1]]);\n",
        " Prove following with Numpy:\n",
        " 1. Prove A.A−1 = I.\n",
        "\n",
        " 2. Prove AB= BA.\n",
        "\n",
        " 3. Prove (AB)T = BTAT.\n",
        " • Solve the following system of Linear equation using Inverse Methods.\n",
        " 2x −3y+z =−1\n",
        "\n",
        " x −y+2z =−3\n",
        "\n",
        " 3x +y−z =9\n",
        " {Hint: First use Numpy array to represent the equation in Matrix form. Then Solve for: AX = B}\n",
        " • Now: solve the above equation using np.linalg.inv function.{Explore more about ”linalg” function\n",
        " of Numpy}"
      ],
      "metadata": {
        "id": "O-UFsPT9c0s_"
      }
    },
    {
      "cell_type": "code",
      "source": [
        "import numpy as np\n",
        "\n",
        "#given matrices\n",
        "A = np.array([[3,4],[7,8]])\n",
        "B = np.array([[5,3],[2,1]])\n",
        "\n",
        "#1.\n",
        "inverse_A = np.linalg.inv(A)  #calculates the inverse\n",
        "identity_matrix = np.dot(A, inverse_A)  #A.A^-1\n",
        "im_rounded = np.round(identity_matrix)\n",
        "\n",
        "#Round to avoid floating point inaccuracies\n",
        "print(\"A * A^-1 = Identity Matrix: \\n\", im_rounded)\n",
        "\n",
        "#2.\n",
        "AB = np.dot(A,B)\n",
        "BA = np.dot(B, A)\n",
        "is_commutative = np.array_equal(AB, BA)\n",
        "print(\"AB: \\n\", AB)\n",
        "print(\"BA: \\n\", BA)\n",
        "print(\"Is equal to BA? \",is_commutative)\n",
        "\n",
        "#3\n",
        "AB_T = np.transpose(AB)\n",
        "BT_AT = np.dot(np.transpose(B), np.transpose(A))\n",
        "is_transpose_property = np.array_equal(AB_T, BT_AT)\n",
        "print(\"Transpose of AB: \\n\", AB_T)\n",
        "print(\" B^T * A^T: \\n \", BT_AT)\n",
        "print(\"Is (AB)^T equal to B^T * A ^ T ?\", is_transpose_property)\n",
        "\n",
        "\n",
        "#solving the system of linear equations\n",
        "#Represent the eqn in matrix form: AX = B\n",
        "coeff_matrix = np.array([[2,-3,1],[1,-1,2],[3,1,-1]])\n",
        "\n",
        "#coeff of x,y,x\n",
        "rhs_matrix = np.array([-1,-3,9])  #right hand side constants\n",
        "\n",
        "#solving using np.linalg.inv\n",
        "A_inv_3x3 = np.linalg.inv(coeff_matrix) #inverse of coefficient matrix\n",
        "solution = np.dot(A_inv_3x3, rhs_matrix)  #solve for X = A ^-1 * B\n",
        "print(\"Solution to the system of eqn using inverse method: \\n\", solution)\n",
        "\n",
        "#Solving using np.linalg.solve(more numerically stable)\n",
        "sol_linalg = np.linalg.solve(coeff_matrix, rhs_matrix)\n",
        "print(\"Solution to the system of eqn using np.linalg.solve: \\n\", sol_linalg)\n",
        "\n"
      ],
      "metadata": {
        "colab": {
          "base_uri": "https://localhost:8080/"
        },
        "id": "06HoOq9Fc1W5",
        "outputId": "9038a7b7-289d-4810-ffdc-ede26145f729"
      },
      "execution_count": null,
      "outputs": [
        {
          "output_type": "stream",
          "name": "stdout",
          "text": [
            "A * A^-1 = Identity Matrix: \n",
            " [[1. 0.]\n",
            " [0. 1.]]\n",
            "AB: \n",
            " [[23 13]\n",
            " [51 29]]\n",
            "BA: \n",
            " [[36 44]\n",
            " [13 16]]\n",
            "Is equal to BA?  False\n",
            "Transpose of AB: \n",
            " [[23 51]\n",
            " [13 29]]\n",
            " B^T * A^T: \n",
            "  [[23 51]\n",
            " [13 29]]\n",
            "Is (AB)^T equal to B^T * A ^ T ? True\n",
            "Solution to the system of eqn using inverse method: \n",
            " [ 2.  1. -2.]\n",
            "Solution to the system of eqn using np.linalg.solve: \n",
            " [ 2.  1. -2.]\n"
          ]
        }
      ]
    }
  ]
}